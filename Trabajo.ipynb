{
  "nbformat": 4,
  "nbformat_minor": 0,
  "metadata": {
    "colab": {
      "provenance": [],
      "collapsed_sections": [
        "kbHPquj8408I",
        "FAWaOCCIIv_m",
        "qEUgzhTWI9lM"
      ],
      "mount_file_id": "12LenecLSJeUqaE2SB1sZWKquwMRSH3tc",
      "authorship_tag": "ABX9TyOmbTW54r5ZMhfMjj64Knqb",
      "include_colab_link": true
    },
    "kernelspec": {
      "name": "python3",
      "display_name": "Python 3"
    },
    "language_info": {
      "name": "python"
    }
  },
  "cells": [
    {
      "cell_type": "markdown",
      "metadata": {
        "id": "view-in-github",
        "colab_type": "text"
      },
      "source": [
        "<a href=\"https://colab.research.google.com/github/nazaita/Trabajo-de-Data-Science/blob/main/Trabajo.ipynb\" target=\"_parent\"><img src=\"https://colab.research.google.com/assets/colab-badge.svg\" alt=\"Open In Colab\"/></a>"
      ]
    },
    {
      "cell_type": "markdown",
      "source": [
        "### Introduccion del Trabajo\n",
        "\n"
      ],
      "metadata": {
        "id": "kbHPquj8408I"
      }
    },
    {
      "cell_type": "markdown",
      "source": [
        "TRABAJO DE \"SMOKING\"\n",
        "\n",
        "1.Introduccion:\n",
        "El tabaquismo es una adicción y la nicotina es una sustancia adictiva. Cada cigarrillo suministra entre 1 y 2 mg de nicotina.\n",
        "Esta llega al cerebro en unos 10 segundos, lo que contribuye a su gran poder adictivo, mayor al de la cocaína y la heroína.\n",
        "\n",
        "La definición de adicción contempla: tolerancia (se debe ir aumentando la dosis para tener el mismo efecto); síndrome de abstinencia\n",
        "(cuando no se consume) y consumo compulsivo, a pesar de conocer las consecuencias negativas que tiene en la salud.\n",
        "\n",
        "El síndrome de abstinencia por falta de nicotina incluye generalmente irritabilidad, somnolencia, fatiga, dificultad para concentrarse, trastornos del\n",
        "sueño, aumento de peso, urgencia de fumar. La mayoría de estos síntomas alcanzan su máxima intensidad entre 24 a 48 horas luego del último cigarrillo\n",
        "y van disminuyendo lentamente en un período de 2 a 4 semanas.\n",
        "\n",
        "Datos Extraidos:\n",
        "* https://www.argentina.gob.ar/salud/consumo-de-tabaco/danios-en-la-salud\n",
        "\n",
        "* https://es.wikipedia.org/wiki/Cigarrillo"
      ],
      "metadata": {
        "id": "GXZIrm1f5E4a"
      }
    },
    {
      "cell_type": "markdown",
      "source": [
        "1.2 - Contexto de Investigacion:\n",
        "El cigarrillo produce daños en casi todos los órganos del cuerpo y es la principal causa de muerte a largo plazo. A pesar de la disminución de las\n",
        "tasas de tabaquismo, se estima que fumar contribuye a unas 480.000 muertes anuales. Los fumadores mayores de 60 años tienen un índice de mortalidad\n",
        "dos veces más alto que quienes nunca han fumado y se estima que mueren aproximadamente 6 años antes. Dejar de fumar genera beneficios inmediatos para\n",
        "la salud, y es posible recuperar todas o algunas de las reducciones de la expectativa de vida según la edad a la que la persona deje de fumar. En el\n",
        "mundo mueren mas de 8 millones de personas por año a causa del cigarrrillo.\n",
        "\n",
        "El consumo de tabaco genera tres formas de dependencia:\n",
        "\n",
        "Física: Provocada directamente por la nicotina, responsable del síndrome de abstinencia.\n",
        "\n",
        "Psicológica: Fumar se asocia a diferentes situaciones cotidianas y parece imposible cambiar esta relación.\n",
        "\n",
        "Social: Para muchas personas, fumar sigue siendo un imperativo social.\n",
        "\n",
        "Datos Extraidos:\n",
        "\n",
        "* https://www.argentina.gob.ar/salud/consumo-de-tabaco/danios-en-la-salud"
      ],
      "metadata": {
        "id": "jmlnfnWD5HGR"
      }
    },
    {
      "cell_type": "markdown",
      "source": [
        "Dataset: En este dataset se podra visualiza, los generos de fumadores, sus edades, su altura y su pesos de cada persona.\n",
        "Tambien se va apoder ver que efectos negativos tiene para el cuerpo como la vista, el oido, la hemoglobina, en la orina, las caries y el sarro dental."
      ],
      "metadata": {
        "id": "iNIcX3-y5HMF"
      }
    },
    {
      "cell_type": "markdown",
      "source": [
        "El Objetivo de este proyecto es hacer un muestra de los datos y clasificarlos para tratar de encontar personas fumadores en base a otros estudios de salud."
      ],
      "metadata": {
        "id": "BZhsTEy35HO1"
      }
    },
    {
      "cell_type": "markdown",
      "source": [
        "El dataset bajo analisis se obtuvo del sitio: - Martin Juareguy.\n"
      ],
      "metadata": {
        "id": "WZpMlYZ_5HRZ"
      }
    },
    {
      "cell_type": "markdown",
      "source": [
        "**Hipotesisi Nula y Alternativa**\n",
        "\n",
        "* Hipótesis nula (H0): Los fumadores no presentan una incidencia significativamente mayor de enfermedades o condiciones médicas en comparación con los no fumadores.\n",
        "\n",
        "* Hipótesis alternativa (H1): Los fumadores presentan una incidencia significativamente mayor de enfermedades o condiciones médicas en comparación con los no fumadores.\n",
        "\n",
        "* La hipótesis nula establece que no hay diferencia significativa o que la incidencia de enfermedades en fumadores es menor o igual a la de los no fumadores, mientras que la hipótesis alternativa sugiere que los fumadores tienen una incidencia significativamente mayor de enfermedades en comparación con los no fumadores."
      ],
      "metadata": {
        "id": "UGk03T0z5HUG"
      }
    },
    {
      "cell_type": "markdown",
      "source": [
        "### Analisis"
      ],
      "metadata": {
        "id": "I9oenwRFZxIs"
      }
    },
    {
      "cell_type": "markdown",
      "source": [
        "MODELO QUE USE: Use algoritmos de clasificacion porque son útiles cuando se quiere predecir una variable objetivo que pertenece a un conjunto discreto de variables categoricas o numericas."
      ],
      "metadata": {
        "id": "hc6seMT65Zwd"
      }
    },
    {
      "cell_type": "code",
      "source": [
        " import pandas as pd\n",
        " import numpy as np\n",
        " from matplotlib import pyplot as plt\n",
        " import seaborn as sns\n",
        " import matplotlib.pyplot as plt\n",
        " from bokeh.models import Range1d\n",
        " from sklearn.model_selection import train_test_split\n",
        " from sklearn.preprocessing import StandardScaler\n",
        " from sklearn.neighbors import KNeighborsClassifier\n",
        " from sklearn.metrics import accuracy_score, precision_score, recall_score\n",
        " import matplotlib.pyplot as plt\n",
        " from sklearn.decomposition import PCA"
      ],
      "metadata": {
        "id": "uAK8W9mQ5rMz"
      },
      "execution_count": 1,
      "outputs": []
    },
    {
      "cell_type": "code",
      "source": [
        "smoking_df = pd.read_csv(\"https://raw.githubusercontent.com/nazaita/Trabajo-de-Data-Science/main/7_smoking_prediction.csv\")\n",
        "smoking_df.head()\n"
      ],
      "metadata": {
        "colab": {
          "base_uri": "https://localhost:8080/",
          "height": 236
        },
        "id": "1m0LvW6JKUej",
        "outputId": "761250c5-1fd9-46d6-dec3-c4635e04dbc7"
      },
      "execution_count": 3,
      "outputs": [
        {
          "output_type": "execute_result",
          "data": {
            "text/plain": [
              "   ID Genero  Edad  Altura  Peso  Cintura  Vista izquierda  Vista derecha  \\\n",
              "0   0      F    40     155    60     81.3              1.2            1.0   \n",
              "1   1      F    40     160    60     81.0              0.8            0.6   \n",
              "2   2      M    55     170    60     80.0              0.8            0.8   \n",
              "3   3      M    40     165    70     88.0              1.5            1.5   \n",
              "4   4      F    40     155    60     86.0              1.0            1.0   \n",
              "\n",
              "   Oido izquierdo  Oido derecho  ...  Hemoglobina  Urine protein  \\\n",
              "0             1.0           1.0  ...         12.9            1.0   \n",
              "1             1.0           1.0  ...         12.7            1.0   \n",
              "2             1.0           1.0  ...         15.8            1.0   \n",
              "3             1.0           1.0  ...         14.7            1.0   \n",
              "4             1.0           1.0  ...         12.5            1.0   \n",
              "\n",
              "   Suero de creatinina   AST   ALT   Gtp  oral  Caries dental  Sarro  smoking  \n",
              "0                  0.7  18.0  19.0  27.0     Y              0      Y        0  \n",
              "1                  0.6  22.0  19.0  18.0     Y              0      Y        0  \n",
              "2                  1.0  21.0  16.0  22.0     Y              0      N        1  \n",
              "3                  1.0  19.0  26.0  18.0     Y              0      Y        0  \n",
              "4                  0.6  16.0  14.0  22.0     Y              0      N        0  \n",
              "\n",
              "[5 rows x 27 columns]"
            ],
            "text/html": [
              "\n",
              "  <div id=\"df-3c48520e-f048-4513-ab97-6ccac4e5bbfe\" class=\"colab-df-container\">\n",
              "    <div>\n",
              "<style scoped>\n",
              "    .dataframe tbody tr th:only-of-type {\n",
              "        vertical-align: middle;\n",
              "    }\n",
              "\n",
              "    .dataframe tbody tr th {\n",
              "        vertical-align: top;\n",
              "    }\n",
              "\n",
              "    .dataframe thead th {\n",
              "        text-align: right;\n",
              "    }\n",
              "</style>\n",
              "<table border=\"1\" class=\"dataframe\">\n",
              "  <thead>\n",
              "    <tr style=\"text-align: right;\">\n",
              "      <th></th>\n",
              "      <th>ID</th>\n",
              "      <th>Genero</th>\n",
              "      <th>Edad</th>\n",
              "      <th>Altura</th>\n",
              "      <th>Peso</th>\n",
              "      <th>Cintura</th>\n",
              "      <th>Vista izquierda</th>\n",
              "      <th>Vista derecha</th>\n",
              "      <th>Oido izquierdo</th>\n",
              "      <th>Oido derecho</th>\n",
              "      <th>...</th>\n",
              "      <th>Hemoglobina</th>\n",
              "      <th>Urine protein</th>\n",
              "      <th>Suero de creatinina</th>\n",
              "      <th>AST</th>\n",
              "      <th>ALT</th>\n",
              "      <th>Gtp</th>\n",
              "      <th>oral</th>\n",
              "      <th>Caries dental</th>\n",
              "      <th>Sarro</th>\n",
              "      <th>smoking</th>\n",
              "    </tr>\n",
              "  </thead>\n",
              "  <tbody>\n",
              "    <tr>\n",
              "      <th>0</th>\n",
              "      <td>0</td>\n",
              "      <td>F</td>\n",
              "      <td>40</td>\n",
              "      <td>155</td>\n",
              "      <td>60</td>\n",
              "      <td>81.3</td>\n",
              "      <td>1.2</td>\n",
              "      <td>1.0</td>\n",
              "      <td>1.0</td>\n",
              "      <td>1.0</td>\n",
              "      <td>...</td>\n",
              "      <td>12.9</td>\n",
              "      <td>1.0</td>\n",
              "      <td>0.7</td>\n",
              "      <td>18.0</td>\n",
              "      <td>19.0</td>\n",
              "      <td>27.0</td>\n",
              "      <td>Y</td>\n",
              "      <td>0</td>\n",
              "      <td>Y</td>\n",
              "      <td>0</td>\n",
              "    </tr>\n",
              "    <tr>\n",
              "      <th>1</th>\n",
              "      <td>1</td>\n",
              "      <td>F</td>\n",
              "      <td>40</td>\n",
              "      <td>160</td>\n",
              "      <td>60</td>\n",
              "      <td>81.0</td>\n",
              "      <td>0.8</td>\n",
              "      <td>0.6</td>\n",
              "      <td>1.0</td>\n",
              "      <td>1.0</td>\n",
              "      <td>...</td>\n",
              "      <td>12.7</td>\n",
              "      <td>1.0</td>\n",
              "      <td>0.6</td>\n",
              "      <td>22.0</td>\n",
              "      <td>19.0</td>\n",
              "      <td>18.0</td>\n",
              "      <td>Y</td>\n",
              "      <td>0</td>\n",
              "      <td>Y</td>\n",
              "      <td>0</td>\n",
              "    </tr>\n",
              "    <tr>\n",
              "      <th>2</th>\n",
              "      <td>2</td>\n",
              "      <td>M</td>\n",
              "      <td>55</td>\n",
              "      <td>170</td>\n",
              "      <td>60</td>\n",
              "      <td>80.0</td>\n",
              "      <td>0.8</td>\n",
              "      <td>0.8</td>\n",
              "      <td>1.0</td>\n",
              "      <td>1.0</td>\n",
              "      <td>...</td>\n",
              "      <td>15.8</td>\n",
              "      <td>1.0</td>\n",
              "      <td>1.0</td>\n",
              "      <td>21.0</td>\n",
              "      <td>16.0</td>\n",
              "      <td>22.0</td>\n",
              "      <td>Y</td>\n",
              "      <td>0</td>\n",
              "      <td>N</td>\n",
              "      <td>1</td>\n",
              "    </tr>\n",
              "    <tr>\n",
              "      <th>3</th>\n",
              "      <td>3</td>\n",
              "      <td>M</td>\n",
              "      <td>40</td>\n",
              "      <td>165</td>\n",
              "      <td>70</td>\n",
              "      <td>88.0</td>\n",
              "      <td>1.5</td>\n",
              "      <td>1.5</td>\n",
              "      <td>1.0</td>\n",
              "      <td>1.0</td>\n",
              "      <td>...</td>\n",
              "      <td>14.7</td>\n",
              "      <td>1.0</td>\n",
              "      <td>1.0</td>\n",
              "      <td>19.0</td>\n",
              "      <td>26.0</td>\n",
              "      <td>18.0</td>\n",
              "      <td>Y</td>\n",
              "      <td>0</td>\n",
              "      <td>Y</td>\n",
              "      <td>0</td>\n",
              "    </tr>\n",
              "    <tr>\n",
              "      <th>4</th>\n",
              "      <td>4</td>\n",
              "      <td>F</td>\n",
              "      <td>40</td>\n",
              "      <td>155</td>\n",
              "      <td>60</td>\n",
              "      <td>86.0</td>\n",
              "      <td>1.0</td>\n",
              "      <td>1.0</td>\n",
              "      <td>1.0</td>\n",
              "      <td>1.0</td>\n",
              "      <td>...</td>\n",
              "      <td>12.5</td>\n",
              "      <td>1.0</td>\n",
              "      <td>0.6</td>\n",
              "      <td>16.0</td>\n",
              "      <td>14.0</td>\n",
              "      <td>22.0</td>\n",
              "      <td>Y</td>\n",
              "      <td>0</td>\n",
              "      <td>N</td>\n",
              "      <td>0</td>\n",
              "    </tr>\n",
              "  </tbody>\n",
              "</table>\n",
              "<p>5 rows × 27 columns</p>\n",
              "</div>\n",
              "    <div class=\"colab-df-buttons\">\n",
              "\n",
              "  <div class=\"colab-df-container\">\n",
              "    <button class=\"colab-df-convert\" onclick=\"convertToInteractive('df-3c48520e-f048-4513-ab97-6ccac4e5bbfe')\"\n",
              "            title=\"Convert this dataframe to an interactive table.\"\n",
              "            style=\"display:none;\">\n",
              "\n",
              "  <svg xmlns=\"http://www.w3.org/2000/svg\" height=\"24px\" viewBox=\"0 -960 960 960\">\n",
              "    <path d=\"M120-120v-720h720v720H120Zm60-500h600v-160H180v160Zm220 220h160v-160H400v160Zm0 220h160v-160H400v160ZM180-400h160v-160H180v160Zm440 0h160v-160H620v160ZM180-180h160v-160H180v160Zm440 0h160v-160H620v160Z\"/>\n",
              "  </svg>\n",
              "    </button>\n",
              "\n",
              "  <style>\n",
              "    .colab-df-container {\n",
              "      display:flex;\n",
              "      gap: 12px;\n",
              "    }\n",
              "\n",
              "    .colab-df-convert {\n",
              "      background-color: #E8F0FE;\n",
              "      border: none;\n",
              "      border-radius: 50%;\n",
              "      cursor: pointer;\n",
              "      display: none;\n",
              "      fill: #1967D2;\n",
              "      height: 32px;\n",
              "      padding: 0 0 0 0;\n",
              "      width: 32px;\n",
              "    }\n",
              "\n",
              "    .colab-df-convert:hover {\n",
              "      background-color: #E2EBFA;\n",
              "      box-shadow: 0px 1px 2px rgba(60, 64, 67, 0.3), 0px 1px 3px 1px rgba(60, 64, 67, 0.15);\n",
              "      fill: #174EA6;\n",
              "    }\n",
              "\n",
              "    .colab-df-buttons div {\n",
              "      margin-bottom: 4px;\n",
              "    }\n",
              "\n",
              "    [theme=dark] .colab-df-convert {\n",
              "      background-color: #3B4455;\n",
              "      fill: #D2E3FC;\n",
              "    }\n",
              "\n",
              "    [theme=dark] .colab-df-convert:hover {\n",
              "      background-color: #434B5C;\n",
              "      box-shadow: 0px 1px 3px 1px rgba(0, 0, 0, 0.15);\n",
              "      filter: drop-shadow(0px 1px 2px rgba(0, 0, 0, 0.3));\n",
              "      fill: #FFFFFF;\n",
              "    }\n",
              "  </style>\n",
              "\n",
              "    <script>\n",
              "      const buttonEl =\n",
              "        document.querySelector('#df-3c48520e-f048-4513-ab97-6ccac4e5bbfe button.colab-df-convert');\n",
              "      buttonEl.style.display =\n",
              "        google.colab.kernel.accessAllowed ? 'block' : 'none';\n",
              "\n",
              "      async function convertToInteractive(key) {\n",
              "        const element = document.querySelector('#df-3c48520e-f048-4513-ab97-6ccac4e5bbfe');\n",
              "        const dataTable =\n",
              "          await google.colab.kernel.invokeFunction('convertToInteractive',\n",
              "                                                    [key], {});\n",
              "        if (!dataTable) return;\n",
              "\n",
              "        const docLinkHtml = 'Like what you see? Visit the ' +\n",
              "          '<a target=\"_blank\" href=https://colab.research.google.com/notebooks/data_table.ipynb>data table notebook</a>'\n",
              "          + ' to learn more about interactive tables.';\n",
              "        element.innerHTML = '';\n",
              "        dataTable['output_type'] = 'display_data';\n",
              "        await google.colab.output.renderOutput(dataTable, element);\n",
              "        const docLink = document.createElement('div');\n",
              "        docLink.innerHTML = docLinkHtml;\n",
              "        element.appendChild(docLink);\n",
              "      }\n",
              "    </script>\n",
              "  </div>\n",
              "\n",
              "\n",
              "<div id=\"df-16bc8492-98df-437c-ae0a-dad98409af69\">\n",
              "  <button class=\"colab-df-quickchart\" onclick=\"quickchart('df-16bc8492-98df-437c-ae0a-dad98409af69')\"\n",
              "            title=\"Suggest charts\"\n",
              "            style=\"display:none;\">\n",
              "\n",
              "<svg xmlns=\"http://www.w3.org/2000/svg\" height=\"24px\"viewBox=\"0 0 24 24\"\n",
              "     width=\"24px\">\n",
              "    <g>\n",
              "        <path d=\"M19 3H5c-1.1 0-2 .9-2 2v14c0 1.1.9 2 2 2h14c1.1 0 2-.9 2-2V5c0-1.1-.9-2-2-2zM9 17H7v-7h2v7zm4 0h-2V7h2v10zm4 0h-2v-4h2v4z\"/>\n",
              "    </g>\n",
              "</svg>\n",
              "  </button>\n",
              "\n",
              "<style>\n",
              "  .colab-df-quickchart {\n",
              "      --bg-color: #E8F0FE;\n",
              "      --fill-color: #1967D2;\n",
              "      --hover-bg-color: #E2EBFA;\n",
              "      --hover-fill-color: #174EA6;\n",
              "      --disabled-fill-color: #AAA;\n",
              "      --disabled-bg-color: #DDD;\n",
              "  }\n",
              "\n",
              "  [theme=dark] .colab-df-quickchart {\n",
              "      --bg-color: #3B4455;\n",
              "      --fill-color: #D2E3FC;\n",
              "      --hover-bg-color: #434B5C;\n",
              "      --hover-fill-color: #FFFFFF;\n",
              "      --disabled-bg-color: #3B4455;\n",
              "      --disabled-fill-color: #666;\n",
              "  }\n",
              "\n",
              "  .colab-df-quickchart {\n",
              "    background-color: var(--bg-color);\n",
              "    border: none;\n",
              "    border-radius: 50%;\n",
              "    cursor: pointer;\n",
              "    display: none;\n",
              "    fill: var(--fill-color);\n",
              "    height: 32px;\n",
              "    padding: 0;\n",
              "    width: 32px;\n",
              "  }\n",
              "\n",
              "  .colab-df-quickchart:hover {\n",
              "    background-color: var(--hover-bg-color);\n",
              "    box-shadow: 0 1px 2px rgba(60, 64, 67, 0.3), 0 1px 3px 1px rgba(60, 64, 67, 0.15);\n",
              "    fill: var(--button-hover-fill-color);\n",
              "  }\n",
              "\n",
              "  .colab-df-quickchart-complete:disabled,\n",
              "  .colab-df-quickchart-complete:disabled:hover {\n",
              "    background-color: var(--disabled-bg-color);\n",
              "    fill: var(--disabled-fill-color);\n",
              "    box-shadow: none;\n",
              "  }\n",
              "\n",
              "  .colab-df-spinner {\n",
              "    border: 2px solid var(--fill-color);\n",
              "    border-color: transparent;\n",
              "    border-bottom-color: var(--fill-color);\n",
              "    animation:\n",
              "      spin 1s steps(1) infinite;\n",
              "  }\n",
              "\n",
              "  @keyframes spin {\n",
              "    0% {\n",
              "      border-color: transparent;\n",
              "      border-bottom-color: var(--fill-color);\n",
              "      border-left-color: var(--fill-color);\n",
              "    }\n",
              "    20% {\n",
              "      border-color: transparent;\n",
              "      border-left-color: var(--fill-color);\n",
              "      border-top-color: var(--fill-color);\n",
              "    }\n",
              "    30% {\n",
              "      border-color: transparent;\n",
              "      border-left-color: var(--fill-color);\n",
              "      border-top-color: var(--fill-color);\n",
              "      border-right-color: var(--fill-color);\n",
              "    }\n",
              "    40% {\n",
              "      border-color: transparent;\n",
              "      border-right-color: var(--fill-color);\n",
              "      border-top-color: var(--fill-color);\n",
              "    }\n",
              "    60% {\n",
              "      border-color: transparent;\n",
              "      border-right-color: var(--fill-color);\n",
              "    }\n",
              "    80% {\n",
              "      border-color: transparent;\n",
              "      border-right-color: var(--fill-color);\n",
              "      border-bottom-color: var(--fill-color);\n",
              "    }\n",
              "    90% {\n",
              "      border-color: transparent;\n",
              "      border-bottom-color: var(--fill-color);\n",
              "    }\n",
              "  }\n",
              "</style>\n",
              "\n",
              "  <script>\n",
              "    async function quickchart(key) {\n",
              "      const quickchartButtonEl =\n",
              "        document.querySelector('#' + key + ' button');\n",
              "      quickchartButtonEl.disabled = true;  // To prevent multiple clicks.\n",
              "      quickchartButtonEl.classList.add('colab-df-spinner');\n",
              "      try {\n",
              "        const charts = await google.colab.kernel.invokeFunction(\n",
              "            'suggestCharts', [key], {});\n",
              "      } catch (error) {\n",
              "        console.error('Error during call to suggestCharts:', error);\n",
              "      }\n",
              "      quickchartButtonEl.classList.remove('colab-df-spinner');\n",
              "      quickchartButtonEl.classList.add('colab-df-quickchart-complete');\n",
              "    }\n",
              "    (() => {\n",
              "      let quickchartButtonEl =\n",
              "        document.querySelector('#df-16bc8492-98df-437c-ae0a-dad98409af69 button');\n",
              "      quickchartButtonEl.style.display =\n",
              "        google.colab.kernel.accessAllowed ? 'block' : 'none';\n",
              "    })();\n",
              "  </script>\n",
              "</div>\n",
              "\n",
              "    </div>\n",
              "  </div>\n"
            ],
            "application/vnd.google.colaboratory.intrinsic+json": {
              "type": "dataframe",
              "variable_name": "smoking_df"
            }
          },
          "metadata": {},
          "execution_count": 3
        }
      ]
    },
    {
      "cell_type": "markdown",
      "source": [
        "Por otra parte voy a describir cada variable.\n",
        "\n",
        "Genero: El genero de cada sexo.                       \n",
        "Edad: La edad de cada persona.                          \n",
        "Altura: La altura de cada persona.                         \n",
        "Peso: El peso de cada Persona.                           \n",
        "Cintura: Medida de la cintura.                         \n",
        "Vista izquierda: La vista del ojo izquierdo marca que graduacion de porcentaje tienen.                \n",
        "Vista derecha: La vista del ojo derecho marca que graduacion de porcentaje tienen. tienen.                   \n",
        "Oido izquierdo: La audicion del oido izquierdo.                 \n",
        "Oido derecho: La audicion del oido derecho.                    \n",
        "systolic: Es la presion de cada persona.                       \n",
        "Relajacion: La relajacion.                      \n",
        "Azucar en la sangre en ayuna: La medicion de azucar en sangre en ayuna.   \n",
        "Colesterol: Medicion del colesterol.                      \n",
        "triglyceride: La prueba de triglicéridos mide la cantidad de una grasa que hay en la sangre llamada triglicérido.                   \n",
        "Colesterol Bueno: Medicion del colesterol Bueno.                \n",
        "Colesterol Malo: Medicion del colesterol Malo.                 \n",
        "Hemoglobina: La hemoglobina                    \n",
        "Urine protein: Analisis de proteina en orina.                   \n",
        "Suero de creatinina: Resultado de suero de creatina.             \n",
        "AST: La prueba de sangre de AST se suele incluir en un análisis de sangre de rutina para monitorear la salud de su hígado.                            \n",
        "ALT: La prueba de sangre de ALT es parte de una prueba sanguínea de rutina para revisar la salud del hígado.                           \n",
        "Gtp: El GPT en un análisis de sangre se refiere a la concentración de transaminasa GPT en el torrente sanguíneo, una enzima que se concentra\n",
        "mayoritariamente en el hígado.                            \n",
        "oral: Oral.                           \n",
        "Caries dental: Examen de caries dental.                  \n",
        "Sarro: Examen de sarro dental.                          \n",
        "smoking: El valor 1 representa los fumadores y el valor 0 representa los no fumadores.  "
      ],
      "metadata": {
        "id": "MbkJRr_tR_aO"
      }
    },
    {
      "cell_type": "markdown",
      "source": [
        "En base a lo ejecutado hasta ahora, se puede ver que el dataset consta de:\n",
        "* 27 columnas.\n",
        "* 55692 filas.\n",
        "* Datos Alfanumerico.\n",
        "* No hay datos nulos."
      ],
      "metadata": {
        "id": "IsJPiwiwSNU2"
      }
    },
    {
      "cell_type": "code",
      "source": [
        "smoking_df.shape"
      ],
      "metadata": {
        "id": "kLBStxWZSYIG"
      },
      "execution_count": null,
      "outputs": []
    },
    {
      "cell_type": "code",
      "source": [
        "data = smoking_df.dropna()"
      ],
      "metadata": {
        "id": "1nuiBJ7bSYLl"
      },
      "execution_count": null,
      "outputs": []
    },
    {
      "cell_type": "code",
      "source": [
        "smoking_df.columns"
      ],
      "metadata": {
        "id": "WIrKHFGXSYOR"
      },
      "execution_count": null,
      "outputs": []
    },
    {
      "cell_type": "code",
      "source": [
        "smoking_df.dtypes"
      ],
      "metadata": {
        "id": "g-oPIGnPSYQw"
      },
      "execution_count": null,
      "outputs": []
    },
    {
      "cell_type": "code",
      "source": [
        "smoking_df_sin_nulos = smoking_df.dropna()"
      ],
      "metadata": {
        "id": "zW4gEPqRSYTF"
      },
      "execution_count": null,
      "outputs": []
    },
    {
      "cell_type": "code",
      "source": [
        "smoking_df.isnull().sum()"
      ],
      "metadata": {
        "id": "i06SfulBSYVl"
      },
      "execution_count": null,
      "outputs": []
    },
    {
      "cell_type": "code",
      "source": [
        "smoking_df.info()"
      ],
      "metadata": {
        "id": "DZIMsqjrSjlI"
      },
      "execution_count": null,
      "outputs": []
    },
    {
      "cell_type": "code",
      "source": [
        "smoking_df.describe()"
      ],
      "metadata": {
        "id": "5GENaPN4Sjr0"
      },
      "execution_count": null,
      "outputs": []
    },
    {
      "cell_type": "code",
      "source": [
        "smoking_df[smoking_df[\"smoking\"]==0].describe()"
      ],
      "metadata": {
        "id": "1RNKFy_BSjuT"
      },
      "execution_count": null,
      "outputs": []
    },
    {
      "cell_type": "code",
      "source": [
        "smoking_df[smoking_df[\"smoking\"]==1].describe()"
      ],
      "metadata": {
        "id": "DJZedxDmSjwl"
      },
      "execution_count": null,
      "outputs": []
    },
    {
      "cell_type": "code",
      "source": [
        "# Aplicar One Hot Encoding a la columna 'genero'\n",
        "one_hot_encoded = pd.get_dummies(smoking_df['Genero'], prefix='Genero')\n",
        "\n",
        "smoking_df_encoded = pd.concat([smoking_df, one_hot_encoded], axis=1)\n",
        "\n",
        "print(smoking_df_encoded)"
      ],
      "metadata": {
        "id": "d7ujmB4SSYYX"
      },
      "execution_count": null,
      "outputs": []
    },
    {
      "cell_type": "code",
      "source": [
        "smoking_df[\"Genero\"].replace({\"F\":1, \"M\":0})"
      ],
      "metadata": {
        "id": "2F-EE0YzSrcy"
      },
      "execution_count": null,
      "outputs": []
    },
    {
      "cell_type": "code",
      "source": [
        "smoking_df_encoded [[\"Genero\",\"Genero_F\",\"Genero_M\"]]"
      ],
      "metadata": {
        "id": "I4m_-xzKSrfh"
      },
      "execution_count": null,
      "outputs": []
    },
    {
      "cell_type": "code",
      "source": [
        "smoking_df_encoded.head()"
      ],
      "metadata": {
        "id": "dUYy_ItfSriS"
      },
      "execution_count": null,
      "outputs": []
    },
    {
      "cell_type": "code",
      "source": [
        "# Aplicar One Hot Encoding a la columna 'genero'\n",
        "one_hot_encoded = pd.get_dummies(smoking_df['Sarro'], prefix='Sarro')\n",
        "\n",
        "smoking_df_encoded = pd.concat([smoking_df, one_hot_encoded], axis=1)\n",
        "\n",
        "print(smoking_df_encoded)"
      ],
      "metadata": {
        "id": "sU1J7A-tSxcK"
      },
      "execution_count": null,
      "outputs": []
    },
    {
      "cell_type": "markdown",
      "source": [
        "-------------------------------------------------------------------------------------------------------------------------------------------------------------------------------------------------------------------------------"
      ],
      "metadata": {
        "id": "xKSmFOoK6p3x"
      }
    },
    {
      "cell_type": "markdown",
      "source": [
        "* Cantidad de fumadores:\n",
        "\n",
        "* En este grafico se puede ver la cantidad de fumadores y no fumadores. El Valor 1 representa los fumadores y el valor 0 representa los no fumadores, en esta visulizacion se ve como los fumadores pueden llegar al 55 % del total de las personas que no fuman."
      ],
      "metadata": {
        "id": "Mr-OZmRgLSGm"
      }
    },
    {
      "cell_type": "code",
      "source": [
        "#Cantidad de Fumadores:\n",
        "fig = plt.figure()\n",
        "ax = plt.axes()\n",
        "ax = sns.countplot(y=\"Genero\",color=\"black\", data=smoking_df, orient='h')\n",
        "plt.title(\"Fumadores y no Fumadores\")\n",
        "plt.xlabel(\"Cantidad\")\n",
        "plt.ylabel(\"Valor 1: Fuma / valor 0: No Fuma\")\n",
        "plt.show()"
      ],
      "metadata": {
        "id": "tUi5vT7BKtfM"
      },
      "execution_count": null,
      "outputs": []
    },
    {
      "cell_type": "markdown",
      "source": [
        "-------------------------------------------------------------------------------------------------------------------------------------------------------------------------------------------------------------------------------"
      ],
      "metadata": {
        "id": "sbQEOGjq6yAg"
      }
    },
    {
      "cell_type": "markdown",
      "source": [
        "* Generos:\n",
        "\n",
        "* En este grafico se puede mostrar como la mayor cantidad de fumadores son de genero masculino y el genero femenino es mucho menor.\n",
        "\n",
        "* La cantidad de fumadores femeninos no llegan ni al 10% del genero masculino fumador.\n",
        "\n",
        "* Se podria llegar a la conclusion que el genero masculino es mayormente el genero que mas fuma."
      ],
      "metadata": {
        "id": "97JaoogIwenh"
      }
    },
    {
      "cell_type": "code",
      "source": [
        "#Generos:\n",
        "fig, axs = plt.subplots (1, 2, figsize= (8,3))\n",
        "sns.histplot(data=smoking_df[smoking_df[\"smoking\"]== True], x=\"Genero\", ax=axs[0],bins=30,color=\"Black\")\n",
        "axs[1].set_title(\"No Fumador\")\n",
        "sns.histplot(data=smoking_df[smoking_df[\"smoking\"]== False], x=\"Genero\", ax=axs[1],bins=30,color=\"yellow\")\n",
        "axs[0].set_title(\"Fumador\")"
      ],
      "metadata": {
        "id": "pb9VoBGVwi-B"
      },
      "execution_count": null,
      "outputs": []
    },
    {
      "cell_type": "markdown",
      "source": [
        "-------------------------------------------------------------------------------------------------------------------------------------------------------------------------------------------------------------------------------"
      ],
      "metadata": {
        "id": "bAymUbUe6z8s"
      }
    },
    {
      "cell_type": "markdown",
      "source": [
        "* Edad:\n",
        "\n",
        "* Esta grafico se puede mostrar como el poncentaje de fumadores por edades y no fumadores, relativamente no cambia mucho entre si. En los dos casos los dos llegan hasta las mismas edades.\n",
        "\n",
        "* Conclusion se podria decir que tanto no fumadores y fumadores, no hay un cambio entre volumenes de edades."
      ],
      "metadata": {
        "id": "B8Dz4JYmwwBq"
      }
    },
    {
      "cell_type": "code",
      "source": [
        "plt.figure(figsize=(10, 6))\n",
        "sns.countplot(x='Edad', hue='smoking', data=smoking_df)\n",
        "plt.xlabel('Edad')\n",
        "plt.ylabel('Cantidad')\n",
        "plt.title('')\n",
        "plt.legend(title='smoking', labels=['0', '1'])\n",
        "plt.show()\n"
      ],
      "metadata": {
        "id": "FGJppb8qmTzl"
      },
      "execution_count": null,
      "outputs": []
    },
    {
      "cell_type": "markdown",
      "source": [
        "-------------------------------------------------------------------------------------------------------------------------------------------------------------------------------------------------------------------------------"
      ],
      "metadata": {
        "id": "3cn2GWAR7Aq3"
      }
    },
    {
      "cell_type": "markdown",
      "source": [
        "* Peso:\n",
        "\n",
        "* En este grafico se puede ver el peso de los fumadores y no fumadores.\n",
        "\n",
        "* En los dos graficos entre fumadores y no fumadores el peso es relativamente el mismo , pero se puede ver un volumen mayor de 80 y 85 kilos en adelante en personas fumadoras.\n",
        "\n",
        "* Conclusion en ambos graficos no representan un mayor volumen de uno a otro y no hay diferencia entre ambos graficos."
      ],
      "metadata": {
        "id": "72oRKHCzxAnW"
      }
    },
    {
      "cell_type": "code",
      "source": [
        "plt.figure(figsize=(10, 6))\n",
        "sns.countplot(x='Peso', hue='smoking', data=smoking_df)\n",
        "plt.xlabel('Peso')\n",
        "plt.ylabel('Cantidad')\n",
        "plt.title('')\n",
        "plt.legend(title='smoking', labels=['0', '1'])\n",
        "plt.show()\n"
      ],
      "metadata": {
        "id": "goloV_swr86L"
      },
      "execution_count": null,
      "outputs": []
    },
    {
      "cell_type": "markdown",
      "source": [
        "-------------------------------------------------------------------------------------------------------------------------------------------------------------------------------------------------------------------------------"
      ],
      "metadata": {
        "id": "m9iZzPsr7B_N"
      }
    },
    {
      "cell_type": "markdown",
      "source": [
        "* Vista derecha:"
      ],
      "metadata": {
        "id": "wpks3ZND86Hj"
      }
    },
    {
      "cell_type": "code",
      "source": [
        "#Vista Derecha:\n",
        "plt.figure(figsize=(8,6))\n",
        "sns.lineplot(x=\"Edad\",y=\"Vista derecha\",hue=\"smoking\",data=smoking_df)\n",
        "plt.title(\"Vista Derecha\")\n",
        "plt.xlabel(\"Edad\")\n",
        "plt.ylabel(\"Resultado de Vista\")"
      ],
      "metadata": {
        "id": "FyMnridxeTAC"
      },
      "execution_count": null,
      "outputs": []
    },
    {
      "cell_type": "markdown",
      "source": [
        "* Vista derecha y izquierda:\n",
        "\n",
        "* En este grafico la variable \"Y\" cuando esos valores van aumentando quiere decir o demostrar que los niveles visibilidad van aumentando.\n",
        "\n",
        "* En este grafico no se nota una diferencia entre vista derecha y vista izquierda entre ambos graficos, es muy pequeña y diria que casi no hay cambios.\n",
        "\n",
        "* Se puede llegar a la conclusion de que no hay cambios entre graficos y que en algunos casos ya un poco siendo mayor de edad se pierde un poquito mas de vision pero es diminuto el cambio."
      ],
      "metadata": {
        "id": "nDXinDOsednx"
      }
    },
    {
      "cell_type": "code",
      "source": [
        "#Vista Izquierda:\n",
        "plt.figure(figsize=(8,6))\n",
        "sns.lineplot(x=\"Edad\",y=\"Vista izquierda\",hue=\"smoking\",data=smoking_df)\n",
        "plt.title(\"Vista Izquierda\")\n",
        "plt.xlabel(\"Edad\")\n",
        "plt.ylabel(\"Resultado de Vista\")"
      ],
      "metadata": {
        "id": "Pj-5lWr2eTDB"
      },
      "execution_count": null,
      "outputs": []
    },
    {
      "cell_type": "markdown",
      "source": [
        "* Vista izquierda:"
      ],
      "metadata": {
        "id": "XsaXYnn-88Z_"
      }
    },
    {
      "cell_type": "markdown",
      "source": [
        "-------------------------------------------------------------------------------------------------------------------------------------------------------------------------------------------------------------------------------"
      ],
      "metadata": {
        "id": "MyoW24QW7P6b"
      }
    },
    {
      "cell_type": "markdown",
      "source": [
        "* Oido derecho:"
      ],
      "metadata": {
        "id": "non2I6bRep-S"
      }
    },
    {
      "cell_type": "code",
      "source": [
        "#Oido Derecho:\n",
        "plt.figure(figsize=(8,6))\n",
        "sns.lineplot(x=\"Edad\",y=\"Oido derecho\",hue=\"smoking\",data=smoking_df)\n",
        "plt.title(\"Oido Derecho\")\n",
        "plt.xlabel(\"Edad\")\n",
        "plt.ylabel(\"Resultado Auditivo\")"
      ],
      "metadata": {
        "id": "Z9oaLJZSeTFO"
      },
      "execution_count": null,
      "outputs": []
    },
    {
      "cell_type": "markdown",
      "source": [
        "* Oido derecho y izquierdo:\n",
        "\n",
        "* En este grafico la variable \"Y\" cuando esos valores van aumentando quiere decir o demostrar que los niveles audicion van aumentando.\n",
        "\n",
        "* En estos dos graficos se puede visualizar como fumadores y no fumadores no hay un cambio o una diferencia entre ambos.\n",
        "\n",
        "* Conclusion es que no hay cambios entre ambos graficos y a mayor edad se pierde un poco mas la audicion, pero la proporcion es muy diminuta."
      ],
      "metadata": {
        "id": "W1YtBf9qewIi"
      }
    },
    {
      "cell_type": "code",
      "source": [
        "#Oido Izquierdo:\n",
        "plt.figure(figsize=(8,6))\n",
        "sns.lineplot(x=\"Edad\",y=\"Oido izquierdo\",hue=\"smoking\",data=smoking_df)\n",
        "plt.title(\"Oido Derecho\")\n",
        "plt.xlabel(\"Edad\")\n",
        "plt.ylabel(\"Resultado Auditivo\")"
      ],
      "metadata": {
        "id": "QiMsEt9KeTKc"
      },
      "execution_count": null,
      "outputs": []
    },
    {
      "cell_type": "markdown",
      "source": [
        "* Oido izquierdo:"
      ],
      "metadata": {
        "id": "Ix12HBZze1T1"
      }
    },
    {
      "cell_type": "markdown",
      "source": [
        "-------------------------------------------------------------------------------------------------------------------------------------------------------------------------------------------------------------------------------"
      ],
      "metadata": {
        "id": "5rMz-br47R6c"
      }
    },
    {
      "cell_type": "markdown",
      "source": [
        "* Systolic:\n",
        "\n",
        "* En este grafico de boxplot se eliminaron outliers  para reducir el volumen de ambas variables y quedaron datos atípicos en la variables fumadora en la parte superior mostrando que hay casos en que tienen presión mas alta y mostrando un mayor volumen de datos mas arriba en la caja 1 .\n",
        "\n",
        "* Se recomienda mantener una presión arterial normal de 120/80 mmHg para adultos.\n",
        "Conclusión hay cambios notorios  y un fuerza mayor en la variable 1."
      ],
      "metadata": {
        "id": "DBEkrRlv71AM"
      }
    },
    {
      "cell_type": "code",
      "source": [
        "#Systolic:\n",
        "plt.figure(figsize=(10, 8))\n",
        "sns.boxplot(x='smoking', y='systolic', data=smoking_df)\n",
        "plt.title('')\n",
        "plt.xlabel('smoking')\n",
        "plt.ylabel('Systolic')\n",
        "plt.show()"
      ],
      "metadata": {
        "id": "GCn-NlA7159O"
      },
      "execution_count": null,
      "outputs": []
    },
    {
      "cell_type": "code",
      "source": [
        "data = smoking_df['systolic'].dropna().values\n",
        "print(data)\n",
        "\n",
        "Q1 = np.percentile(data, 25)\n",
        "Q3 = np.percentile(data, 75)\n",
        "\n",
        "IQR = Q3 - Q1\n",
        "\n",
        "lower_bound = Q1 - 1.5 * IQR\n",
        "upper_bound = Q3 + 1.5 * IQR\n",
        "\n",
        "print(f\"{Q1}\")\n",
        "print(f\"{Q3}\")\n",
        "print(f\"{IQR}\")\n",
        "print(f\"{lower_bound}\")\n",
        "print(f\"{upper_bound}\")\n",
        "print(smoking_df.shape)\n",
        "\n",
        "filtered_df = smoking_df.query(f\"systolic > {lower_bound} and systolic < {upper_bound}\")\n",
        "print(filtered_df.shape)"
      ],
      "metadata": {
        "id": "LLVvGPnb2t31"
      },
      "execution_count": null,
      "outputs": []
    },
    {
      "cell_type": "code",
      "source": [
        "#Systolic:\n",
        "plt.figure(figsize=(8, 5))\n",
        "sns.boxplot(x='smoking', y='systolic', data=filtered_df)\n",
        "plt.xlabel('Smoking')\n",
        "plt.ylabel('Systolic')\n",
        "plt.show()"
      ],
      "metadata": {
        "id": "sCjZBskDz_Nx"
      },
      "execution_count": null,
      "outputs": []
    },
    {
      "cell_type": "markdown",
      "source": [
        "-------------------------------------------------------------------------------------------------------------------------------------------------------------------------------------------------------------------------------"
      ],
      "metadata": {
        "id": "DonFY6mu9K5n"
      }
    },
    {
      "cell_type": "markdown",
      "source": [
        "* Relajacion:\n",
        "\n",
        "* En este gráfico se muestra cómo a las personas fumadoras les cuesta más relajarse que las personas no fumadoras, en la variable 1 se puede ver en la caja un mayor volumen de datos en la caja en la media.\n",
        "\n",
        "* Conclusión los fumadores les cuesta mas relajarse por el consumo excesivo de tabaco y en cambio las personas que no consumen tabaco suelen estar mas tranquilos por no recibir sustancias en su cuerpo que provoquen esos cambios."
      ],
      "metadata": {
        "id": "f2HMo5_IEUFA"
      }
    },
    {
      "cell_type": "code",
      "source": [
        "#Relajacion:\n",
        "plt.figure(figsize=(10, 8))\n",
        "sns.boxplot(x='smoking', y='Relajacion', data=smoking_df)\n",
        "plt.title('')\n",
        "plt.xlabel('smoking')\n",
        "plt.ylabel('Relajacion')\n",
        "plt.show()"
      ],
      "metadata": {
        "id": "SidRluX4-znz"
      },
      "execution_count": null,
      "outputs": []
    },
    {
      "cell_type": "code",
      "source": [
        "data = smoking_df['Relajacion'].dropna().values\n",
        "print(data)\n",
        "\n",
        "Q1 = np.percentile(data, 25)\n",
        "Q3 = np.percentile(data, 75)\n",
        "\n",
        "IQR = Q3 - Q1\n",
        "\n",
        "lower_bound = Q1 - 1.5 * IQR\n",
        "upper_bound = Q3 + 1.5 * IQR\n",
        "\n",
        "print(f\"{Q1}\")\n",
        "print(f\"{Q3}\")\n",
        "print(f\"{IQR}\")\n",
        "print(f\"{lower_bound}\")\n",
        "print(f\"{upper_bound}\")\n",
        "print(smoking_df.shape)\n",
        "\n",
        "filtered_df = smoking_df.query(f\"Relajacion > {lower_bound} and Relajacion < {upper_bound}\")\n",
        "print(filtered_df.shape)"
      ],
      "metadata": {
        "id": "ciDYyLV--zq5"
      },
      "execution_count": null,
      "outputs": []
    },
    {
      "cell_type": "code",
      "source": [
        "#Relajacion:\n",
        "plt.figure(figsize=(8, 5))\n",
        "sns.boxplot(x='smoking', y='Relajacion', data=filtered_df)\n",
        "plt.xlabel('Smoking')\n",
        "plt.ylabel('Relajacion')\n",
        "plt.show()"
      ],
      "metadata": {
        "id": "ydrSdDJP-SQ0"
      },
      "execution_count": null,
      "outputs": []
    },
    {
      "cell_type": "markdown",
      "source": [
        "ELIMINACION DE OUTLIERS: Elimine los datos a tipicos usando el metodo IQR tomando el rango de 1,5 y se observa que en la categoria 1 ya no presenta outliers y en la categoria 0 presenta pero mucho menos dispersos en la parte superior."
      ],
      "metadata": {
        "id": "o8W-F5mWO1IV"
      }
    },
    {
      "cell_type": "markdown",
      "source": [
        "-------------------------------------------------------------------------------------------------------------------------------------------------------------------------------------------------------------------------------"
      ],
      "metadata": {
        "id": "3MejGuzpOlES"
      }
    },
    {
      "cell_type": "markdown",
      "source": [
        "* Azucar en la sangre en ayuna:\n",
        "\n",
        "* Se puede ver como las personas que fuman les aumenta los niveles de azúcar en la sangre y eso es muy malo, tal problema es provocado por el tabaco.\n",
        "\n",
        "* En grafico se puede llegar a la conclusion que los niveles de azucar en sangre en ayuna son relativamente mas altos que las personas que no consumen tabaco, esto es debido al cambio que produce consumir tabaco."
      ],
      "metadata": {
        "id": "kWEHb5zolZbm"
      }
    },
    {
      "cell_type": "code",
      "source": [
        "#Azucar en la sangre en ayuna:\n",
        "sns.scatterplot(x=\"Edad\", y=\"Azucar en la sangre en ayuna\", hue='smoking', data=smoking_df)"
      ],
      "metadata": {
        "id": "Ihct5yV_lbQn"
      },
      "execution_count": null,
      "outputs": []
    },
    {
      "cell_type": "markdown",
      "source": [
        "-------------------------------------------------------------------------------------------------------------------------------------------------------------------------------------------------------------------------------"
      ],
      "metadata": {
        "id": "LwihovCaZOb8"
      }
    },
    {
      "cell_type": "markdown",
      "source": [
        "* Colesterol:\n",
        "\n",
        "* Colesterol total\tque una personas tendria que tener es 125 a 200 mg/dL.\n",
        "\n",
        "* Esta visualizacion se muestra como fumadores y no fumadores el colesterol esta de igual manera, no hay tanta diferencia entre uno y comparando con su edad que seria el indicador que se tendria que tener mas en cuenta.\n",
        "\n",
        "* En conclusion este analisis no se logra ver diferencia entre si y las visualizaciones estan en un resultado de colestrol medianamente normal para ambos."
      ],
      "metadata": {
        "id": "bLY4xC41spqE"
      }
    },
    {
      "cell_type": "code",
      "source": [
        "#Colesterol:\n",
        "plt.figure(figsize=(12,6))\n",
        "plt.subplot(121)\n",
        "sns.lineplot(x= smoking_df.Edad, y= smoking_df.Colesterol , hue=smoking_df.smoking)\n",
        "plt.xlabel('Edad')\n",
        "plt.ylabel('Colesterol')\n",
        "plt.title('')"
      ],
      "metadata": {
        "id": "QbpEO-JOsqZi"
      },
      "execution_count": null,
      "outputs": []
    },
    {
      "cell_type": "markdown",
      "source": [
        "-------------------------------------------------------------------------------------------------------------------------------------------------------------------------------------------------------------------------------"
      ],
      "metadata": {
        "id": "v3qKJlQFZQU4"
      }
    },
    {
      "cell_type": "markdown",
      "source": [
        "* Colesterol Bueno:\n",
        "\n",
        "* El colesterol Bueno debe ser mayor a 40 mg.\n",
        "\n",
        "* Se puede ver un pocentaje de personas fumadoras por debajo de 40 mg y en el mismo caso de persona no fumadoras.\n",
        "\n",
        "* En conclusion no se logran ver cambios notorios entre ambos."
      ],
      "metadata": {
        "id": "SddO7eG-swKo"
      }
    },
    {
      "cell_type": "code",
      "source": [
        "#Colesterol Bueno:\n",
        "plt.figure(figsize=(10,5))\n",
        "sns.lineplot(x= smoking_df.Edad, y= smoking_df.ColesterolBueno, hue=smoking_df.smoking)\n",
        "plt.xlabel('Edad')\n",
        "plt.ylabel('ColesterolBueno')\n",
        "plt.title('Colestero lBueno')"
      ],
      "metadata": {
        "id": "Q0o1MUlosydw"
      },
      "execution_count": null,
      "outputs": []
    },
    {
      "cell_type": "markdown",
      "source": [
        "-------------------------------------------------------------------------------------------------------------------------------------------------------------------------------------------------------------------------------"
      ],
      "metadata": {
        "id": "GfN9VAC-ZRXC"
      }
    },
    {
      "cell_type": "markdown",
      "source": [
        "* Colesterol Malo:\n",
        "\n",
        "* El colesterol Malo debe estar por de bajo de 100 mg.\n",
        "\n",
        "* Se puede ver un pocentaje de personas fumadoras por debajo de 100 mg y en el mismo caso de persona no fumadoras.\n",
        "\n",
        "* En conclusion fumadores y no fumadores en algunos casos entan por arriba de los 100 mg, y en algunos casos las personas que no fuman estan un poco mas arriba que las personas que consumen tabaco."
      ],
      "metadata": {
        "id": "Bq_KMh_Is0b0"
      }
    },
    {
      "cell_type": "code",
      "source": [
        "#Colesterol Malo:\n",
        "plt.figure(figsize=(10,5))\n",
        "sns.lineplot(x= smoking_df.Edad, y= smoking_df.ColesterolMalo, hue=smoking_df.smoking)\n",
        "plt.xlabel('Edad')\n",
        "plt.ylabel('ColesterolMalo')\n",
        "plt.title('ColesterolMalo')"
      ],
      "metadata": {
        "id": "ynVQMVELs0nW"
      },
      "execution_count": null,
      "outputs": []
    },
    {
      "cell_type": "markdown",
      "source": [
        "------------------------------------------------------------------------------------------------------------------------------------------------------------------------------------------------------------------------------"
      ],
      "metadata": {
        "id": "DaJ2tKHlZTb-"
      }
    },
    {
      "cell_type": "markdown",
      "source": [
        "* Trigliceridos:\n",
        "\n",
        "* Valor normal: menos de 145 mg/dL.\n",
        "\n",
        "* En grafico se puede ver los altos niveles de triglicéridos de los consumidores de tabaco y en cambio las personas que no fuman los niveles son bajos medianamnete o normal.\n",
        "\n",
        "* Los niveles altos de triglicéridos aumenta el riesgo de sufrir un accidente cerebrovascular, ataque cardíaco y cardiopatías.\n",
        "\n",
        "* Conclusion en este grafico, se puede ver como los niveles triglicéridos son altos y fuera de lo normal en personas consumidoras de tabaco."
      ],
      "metadata": {
        "id": "ARFFKJuOs0v6"
      }
    },
    {
      "cell_type": "code",
      "source": [
        "#Triglicéridos:\n",
        "plt.figure(figsize=(10,5))\n",
        "sns.lineplot(x= smoking_df.Edad, y= smoking_df.triglyceride, hue=smoking_df.smoking,color=\"black\")\n",
        "plt.xlabel('Edad')\n",
        "plt.ylabel('Analisis de Triglicéridos')\n",
        "plt.title('Triglicéridos')"
      ],
      "metadata": {
        "id": "RST0ImP2s1De"
      },
      "execution_count": null,
      "outputs": []
    },
    {
      "cell_type": "markdown",
      "source": [
        "-------------------------------------------------------------------------------------------------------------------------------------------------------------------------------------------------------------------------------"
      ],
      "metadata": {
        "id": "jB2jNlRDY7XG"
      }
    },
    {
      "cell_type": "markdown",
      "source": [
        "* ALT:\n",
        "* La prueba de sangre de ALT se suele incluir en un análisis de sangre de rutina para monitorear la salud de su hígado. La prueba también puede ayudar a diagnosticar o monitorear problemas del hígado.\n",
        "\n",
        "* Hombres: 5 - 50 U/L - No deberia pasar de este resultado.\n",
        "* Mujeres: 5 - 35 U/L - No deberia pasar de este resultado.\n",
        "\n",
        "* En este grafico los fumadores suelen tener los analisis un poco mas arriba de 50 U/L, pero no es mucha diferencia con las personas no fumadoras."
      ],
      "metadata": {
        "id": "cP3tSpOCZp_w"
      }
    },
    {
      "cell_type": "code",
      "source": [
        "#Resultados de ALT:\n",
        "plt.figure(figsize=(8, 5))\n",
        "sns.boxplot(x='smoking', y='ALT', data=smoking_df)\n",
        "plt.xlabel('Fumadores')\n",
        "plt.ylabel('ALT Analisis')\n",
        "plt.show()"
      ],
      "metadata": {
        "id": "scqMrccPZu4h"
      },
      "execution_count": null,
      "outputs": []
    },
    {
      "cell_type": "code",
      "source": [
        "#Datos de Outliers\n",
        "data = smoking_df['ALT'].dropna().values\n",
        "print(data)\n",
        "\n",
        "Q1 = np.percentile(data, 25)\n",
        "Q3 = np.percentile(data, 75)\n",
        "\n",
        "IQR = Q3 - Q1\n",
        "\n",
        "lower_bound = Q1 - 1.5 * IQR\n",
        "upper_bound = Q3 + 1.5 * IQR\n",
        "\n",
        "print(f\"{Q1}\")\n",
        "print(f\"{Q3}\")\n",
        "print(f\"{IQR}\")\n",
        "print(f\"{lower_bound}\")\n",
        "print(f\"{upper_bound}\")\n",
        "\n",
        "print(smoking_df.shape)\n",
        "\n",
        "filtered_df = smoking_df.query(f\"ALT > {lower_bound} and ALT < {upper_bound}\")\n",
        "print(filtered_df.shape)"
      ],
      "metadata": {
        "id": "0alyPRoPZ0SK"
      },
      "execution_count": null,
      "outputs": []
    },
    {
      "cell_type": "markdown",
      "source": [
        "* ELIMINACION DE OUTLIERS:\n",
        "Elimine los datos a tipicos usando el metodo IQR tomando el rango de 1,5 y se observa que en la categoria 1 ya no presenta outliers y en la categoria 0 presenta pero mucho menos dispersos."
      ],
      "metadata": {
        "id": "KKK7d-K6aovM"
      }
    },
    {
      "cell_type": "code",
      "source": [
        "#Resultados de ALT:\n",
        "plt.figure(figsize=(8, 5))\n",
        "sns.boxplot(x='smoking', y='ALT', data=filtered_df)\n",
        "plt.xlabel('Fumadores')\n",
        "plt.ylabel('ALT Analisis')\n",
        "plt.show()"
      ],
      "metadata": {
        "id": "tYXqLsgAZ0Wy"
      },
      "execution_count": null,
      "outputs": []
    },
    {
      "cell_type": "markdown",
      "source": [
        "-------------------------------------------------------------------------------------------------------------------------------------------------------------------------------------------------------------------------------"
      ],
      "metadata": {
        "id": "hyiIx2XPaIrz"
      }
    },
    {
      "cell_type": "markdown",
      "source": [
        "* AST: El análisis de transaminasa (AST) en la sangre se utiliza principalmente para evaluar problemas en el hígado y en determinadas enfermedades que afectan al corazón.\n",
        "\n",
        "* Hombres: 5 - 50 U/L - No deberia pasar de este resultado.\n",
        "* Mujeres: 5 - 35 U/L - No deberia pasar de este resultado.\n",
        "\n",
        "* En este analisis no se logran ver muchos cambios desmedidos unos a otros, diria que casi no hay cambios en este grafico."
      ],
      "metadata": {
        "id": "1c6XnROZaLw1"
      }
    },
    {
      "cell_type": "code",
      "source": [
        "#Resultados de AST:\n",
        "plt.figure(figsize=(8, 5))\n",
        "sns.boxplot(x='smoking', y='AST', data=smoking_df)\n",
        "plt.xlabel('Fumadores')\n",
        "plt.ylabel('AST Analisis')\n",
        "plt.show()"
      ],
      "metadata": {
        "id": "-1t2oIOcaK79"
      },
      "execution_count": null,
      "outputs": []
    },
    {
      "cell_type": "code",
      "source": [
        "#Datos de Outliers\n",
        "data = smoking_df['AST'].dropna().values\n",
        "print(data)\n",
        "\n",
        "Q1 = np.percentile(data, 25)\n",
        "Q3 = np.percentile(data, 75)\n",
        "\n",
        "IQR = Q3 - Q1\n",
        "\n",
        "lower_bound = Q1 - 1.5 * IQR\n",
        "upper_bound = Q3 + 1.5 * IQR\n",
        "\n",
        "print(f\"{Q1}\")\n",
        "print(f\"{Q3}\")\n",
        "print(f\"{IQR}\")\n",
        "print(f\"{lower_bound}\")\n",
        "print(f\"{upper_bound}\")\n",
        "\n",
        "print(smoking_df.shape)\n",
        "\n",
        "filtered_df = smoking_df.query(f\"AST > {lower_bound} and AST < {upper_bound}\")\n",
        "print(filtered_df.shape)\n",
        "data = smoking_df['AST'].dropna().values"
      ],
      "metadata": {
        "id": "smSzW7xqaTAS"
      },
      "execution_count": null,
      "outputs": []
    },
    {
      "cell_type": "markdown",
      "source": [
        "* ELIMINACION DE OUTLIERS:\n",
        "Elimine los datos a tipicos usando el metodo IQR tomando el rango de 1,5 y se observa que en la categoria 1 ya no presenta outliers y en la categoria 0 presenta pero mucho menos dispersos en la parte superior y inferior."
      ],
      "metadata": {
        "id": "wcTQIZbRahTv"
      }
    },
    {
      "cell_type": "code",
      "source": [
        "#Resultados de AST:\n",
        "plt.figure(figsize=(8, 5))\n",
        "sns.boxplot(x='smoking', y='AST', data=filtered_df)\n",
        "plt.xlabel('Fumadores')\n",
        "plt.ylabel('AST Analisis')\n",
        "plt.show()"
      ],
      "metadata": {
        "id": "5EDBfUUhaeBg"
      },
      "execution_count": null,
      "outputs": []
    },
    {
      "cell_type": "markdown",
      "source": [
        "-------------------------------------------------------------------------------------------------------------------------------------------------------------------------------------------------------------------------------"
      ],
      "metadata": {
        "id": "VAciYqc_a0EG"
      }
    },
    {
      "cell_type": "markdown",
      "source": [
        "* GTP:\n",
        "\n",
        "* Hombres: 5 - 50 U/L - No deberia pasar de este resultado.\n",
        "* Mujeres: 5 - 35 U/L - No deberia pasar de este resultado.\n",
        "\n",
        "* En este grafico se puede ver los resultados de los analisis GTP se puede notar la diferencia entre personas fumadoras y no fumadoras.\n",
        "\n",
        "* El gtp es una prueba de Higado y de sangre en el que que si el resultado es elevado, puede traer problema en el funcionamiento de los organos. Aunque también es posible que se trate de alguna enfermedad del páncreas o la vesícula.\n",
        "\n",
        "* En conclusion se puede decir que las personas que son fumadoras le suelen dar mal los analisis de higado y de sangre a causa del consumo de tabaco."
      ],
      "metadata": {
        "id": "NAVn_LorbJb6"
      }
    },
    {
      "cell_type": "code",
      "source": [
        "#Resultados de Gtp:\n",
        "plt.figure(figsize=(8, 5))\n",
        "sns.boxplot(x='smoking', y='Gtp', data=smoking_df)\n",
        "plt.xlabel('Fumadores')\n",
        "plt.ylabel('Gtp Analisis')\n",
        "plt.show()"
      ],
      "metadata": {
        "id": "eXwLycFGbLIF"
      },
      "execution_count": null,
      "outputs": []
    },
    {
      "cell_type": "code",
      "source": [
        "# DATOS DE OUTLIERS:\n",
        "data = smoking_df['Gtp'].dropna().values\n",
        "print(data)\n",
        "\n",
        "Q1 = np.percentile(data, 25)\n",
        "Q3 = np.percentile(data, 75)\n",
        "\n",
        "IQR = Q3 - Q1\n",
        "\n",
        "lower_bound = Q1 - 1.5 * IQR\n",
        "upper_bound = Q3 + 1.5 * IQR\n",
        "\n",
        "print(f\"{Q1}\")\n",
        "print(f\"{Q3}\")\n",
        "print(f\"{IQR}\")\n",
        "print(f\"{lower_bound}\")\n",
        "print(f\"{upper_bound}\")\n",
        "\n",
        "print(smoking_df.shape)\n",
        "\n",
        "filtered_df = smoking_df.query(f\"Gtp > {lower_bound} and Gtp < {upper_bound}\")\n",
        "print(filtered_df.shape)"
      ],
      "metadata": {
        "id": "6XBW0Y0BbQHF"
      },
      "execution_count": null,
      "outputs": []
    },
    {
      "cell_type": "markdown",
      "source": [
        "* ELIMINACION DE OUTLIERS:\n",
        "Elimine los datos a tipicos usando el metodo IQR tomando el rango de 1,5 y se observa que en la categoria 1 ya no presenta outliers y en la categoria 0 presenta pero mucho menos que antes.."
      ],
      "metadata": {
        "id": "9zorPJC4baZC"
      }
    },
    {
      "cell_type": "code",
      "source": [
        "#Resultados de Gtp:\n",
        "plt.figure(figsize=(8, 5))\n",
        "sns.boxplot(x='smoking', y='Gtp', data=filtered_df)\n",
        "plt.xlabel('Fumadores')\n",
        "plt.ylabel('Gtp Analisis')\n",
        "plt.show()"
      ],
      "metadata": {
        "id": "rYmjJTtobZvz"
      },
      "execution_count": null,
      "outputs": []
    },
    {
      "cell_type": "markdown",
      "source": [
        "-------------------------------------------------------------------------------------------------------------------------------------------------------------------------------------------------------------------------------"
      ],
      "metadata": {
        "id": "wKGFa2b3bdnC"
      }
    },
    {
      "cell_type": "markdown",
      "source": [
        "* Hemoglobina:\n",
        "\n",
        "* La hemoglobina es una proteína que se encuentra en los glóbulos rojos y que es la encargada de transportar el oxígeno desde los pulmones hasta el resto de nuestro cuerpo.\n",
        "\n",
        "* En este grafico se puede visualizar como la Hemoglobina es mucho mas alta en los fumadores a causa del consumo de tabaco.\n",
        "\n",
        "* Conclusion de este analisis es que los fumadores mayormente tienen la hemoglobina alta por causa del consumo de tabaco y en cambio los no fumadores no suele elevarse tanto la hemoglobina y relativamente esta por el resultado normal o bajo."
      ],
      "metadata": {
        "id": "mi-ZFrOGbktm"
      }
    },
    {
      "cell_type": "code",
      "source": [
        "#Hemoglobina:\n",
        "plt.figure(figsize=(8, 5))\n",
        "sns.boxplot(x='smoking', y='Hemoglobina', data=smoking_df)\n",
        "plt.title('Hemoglobina')\n",
        "plt.xlabel('Fumadores')\n",
        "plt.ylabel('Resultado')\n",
        "plt.show()"
      ],
      "metadata": {
        "id": "sWwxuh43bl_S"
      },
      "execution_count": null,
      "outputs": []
    },
    {
      "cell_type": "markdown",
      "source": [
        "-------------------------------------------------------------------------------------------------------------------------------------------------------------------------------------------------------------------------------"
      ],
      "metadata": {
        "id": "N1-ZLBzqbsvx"
      }
    },
    {
      "cell_type": "markdown",
      "source": [
        "* Caries Dental:\n",
        "\n",
        "* El nivel de carries dental en personas que fuman es mayor, a las que personas que no fuman.\n",
        "\n",
        "* La conclusion de este analisis se podria decir que las personas que fuman suelen tener un volumen mas grandes de caries que las personas que no consumen tabaco."
      ],
      "metadata": {
        "id": "i6XWfJNxbv1X"
      }
    },
    {
      "cell_type": "code",
      "source": [
        " #Caries Dental:\n",
        " sns.barplot(x=\"Genero\", y=\"Caries dental\", hue=\"smoking\",color=\"Yellow\", data=smoking_df)\n",
        " plt.title(\"Caries\")"
      ],
      "metadata": {
        "id": "mHh22W3LbzkO"
      },
      "execution_count": null,
      "outputs": []
    },
    {
      "cell_type": "markdown",
      "source": [
        "-------------------------------------------------------------------------------------------------------------------------------------------------------------------------------------------------------------------------------"
      ],
      "metadata": {
        "id": "pkD2-A9pb1Yf"
      }
    },
    {
      "cell_type": "markdown",
      "source": [
        "* Sarro:\n",
        "\n",
        "* El sarro del tabaco puede ser un problema común para los fumadores, ya que el humo del cigarrillo puede dejar manchas amarillentas y acumularse en la superficie dental. Esto no solo afecta la apariencia de tus dientes, sino también tu salud bucal en general.\n",
        "\n",
        "* En este grafico se puede ver como el volumen de sarro de los fumadores suele ser mas que las personas no fumadores.\n",
        "\n",
        "* La conclusion de este grafico es que la acumulacion de sarro es mayor en los fumadores a causa del consumo de tabaco y los toxicos que tiene."
      ],
      "metadata": {
        "id": "-mQtLwRZb6vO"
      }
    },
    {
      "cell_type": "code",
      "source": [
        "smoking_df[\"Sarro\"].replace({\"Y\":1, \"N\":0}, inplace=True)"
      ],
      "metadata": {
        "id": "JqAE4cVsb9qM"
      },
      "execution_count": null,
      "outputs": []
    },
    {
      "cell_type": "code",
      "source": [
        "#Sarro:\n",
        "plt.figure(figsize=(7,5))\n",
        "sns.barplot(x='Genero',y='Sarro',hue='smoking',color=\"yellow\",data=smoking_df);"
      ],
      "metadata": {
        "id": "fq636wCib-03"
      },
      "execution_count": null,
      "outputs": []
    },
    {
      "cell_type": "markdown",
      "source": [
        "### Modelo de Entrenamiento\n",
        "\n"
      ],
      "metadata": {
        "id": "FAWaOCCIIv_m"
      }
    },
    {
      "cell_type": "code",
      "source": [
        "# Variable Objetivo\n",
        "X = filtered_df[['Gtp', 'Hemoglobina','triglyceride', 'ALT', 'AST', 'systolic','Caries dental','Relajacion','Azucar en la sangre en ayuna']]\n",
        "y = filtered_df['smoking']\n",
        "\n",
        "# Se dividen datos entrenamiento y prueba 70/30\n",
        "X_train, X_test, y_train, y_test = train_test_split(X, y, test_size=0.3, random_state=42)\n",
        "\n",
        "#Escalando\n",
        "scaler = StandardScaler()\n",
        "X_train_scaled = scaler.fit_transform(X_train)\n",
        "X_test_scaled = scaler.transform(X_test)\n",
        "\n",
        "#Valores de k\n",
        "valores_k = [1, 5, 10, 20]\n",
        "\n",
        "for k in valores_k:\n",
        "\n",
        "    clf = KNeighborsClassifier(n_neighbors=k)\n",
        "\n",
        "    clf.fit(X_train_scaled, y_train)\n",
        "\n",
        "    y_pred = clf.predict(X_test_scaled)\n",
        "\n",
        "    accuracy = accuracy_score(y_test, y_pred)\n",
        "    precision = precision_score(y_test, y_pred)\n",
        "    recall = recall_score(y_test, y_pred)\n",
        "\n",
        "    print(f\"Resultados para k={k}:\")\n",
        "    print(f\"  - Precisión: {precision}\")\n",
        "    print(f\"  - Recall: {recall}\")\n",
        "    print(f\"  - Exactitud: {accuracy}\")\n",
        "    print()"
      ],
      "metadata": {
        "colab": {
          "base_uri": "https://localhost:8080/"
        },
        "id": "3JXeZcZ-UB46",
        "outputId": "8d135ba4-6b02-4a4f-9e2c-be7dba7894e5"
      },
      "execution_count": null,
      "outputs": [
        {
          "output_type": "stream",
          "name": "stdout",
          "text": [
            "Resultados para k=1:\n",
            "  - Precisión: 0.6341802302500993\n",
            "  - Recall: 0.6257344300822562\n",
            "  - Exactitud: 0.7525379037574159\n",
            "\n",
            "Resultados para k=5:\n",
            "  - Precisión: 0.5836431226765799\n",
            "  - Recall: 0.5227183705444575\n",
            "  - Exactitud: 0.713843111404087\n",
            "\n",
            "Resultados para k=10:\n",
            "  - Precisión: 0.6048931383577053\n",
            "  - Recall: 0.4212690951821387\n",
            "  - Exactitud: 0.7125906394199077\n",
            "\n",
            "Resultados para k=20:\n",
            "  - Precisión: 0.6136662286465178\n",
            "  - Recall: 0.4573051312181747\n",
            "  - Exactitud: 0.720435069215557\n",
            "\n"
          ]
        }
      ]
    },
    {
      "cell_type": "markdown",
      "source": [
        "### PCA"
      ],
      "metadata": {
        "id": "qEUgzhTWI9lM"
      }
    },
    {
      "cell_type": "code",
      "source": [
        "# Seleccion de variables para PCA\n",
        "X = filtered_df[['Gtp', 'Hemoglobina', 'triglyceride', 'ALT', 'AST', 'systolic','Caries dental','Relajacion','Azucar en la sangre en ayuna']]\n",
        "\n",
        "# Escalando las características\n",
        "scaler = StandardScaler()\n",
        "X_scaled = scaler.fit_transform(X)\n",
        "\n",
        "# Calcular PCA para componentes de 2 a 9\n",
        "componentes = [2, 3, 4, 5, 6, 7, 8, 9]\n",
        "varianza_acumulada = []\n",
        "\n",
        "for n_componentes in componentes:\n",
        "    pca = PCA(n_components=n_componentes)\n",
        "    pca.fit(X_scaled)\n",
        "    varianza_acumulada.append(sum(pca.explained_variance_ratio_))\n",
        "\n",
        "# Graficar la varianza acumulada\n",
        "plt.plot(componentes, varianza_acumulada, marker='o')\n",
        "plt.title('Varianza Acumulada por Número de Componentes Principales')\n",
        "plt.xlabel('Número de Componentes Principales')\n",
        "plt.ylabel('Varianza Acumulada')\n",
        "plt.xticks(componentes)\n",
        "plt.grid(True)\n",
        "plt.show()\n",
        "\n",
        "# Obtener las componentes principales para n_components=2\n",
        "pca = PCA(n_components=2)\n",
        "X_pca = pca.fit_transform(X_scaled)\n",
        "\n",
        "# Obtener las composiciones de las componentes principales\n",
        "composiciones = pd.DataFrame(pca.components_, columns=['Gtp', 'Hemoglobina', 'triglyceride', 'ALT', 'AST', 'systolic','Caries dental','Relajacion','Azucar en la sangre en ayuna'], index=['Componente 1', 'Componente 2'])\n",
        "print(\"Composiciones de las componentes principales:\")\n",
        "print(composiciones)"
      ],
      "metadata": {
        "colab": {
          "base_uri": "https://localhost:8080/"
        },
        "id": "J7n3XOyOUaOo",
        "outputId": "86568a64-13ae-4cbf-885b-08f03f551d09"
      },
      "execution_count": null,
      "outputs": [
        {
          "output_type": "display_data",
          "data": {
            "text/plain": [
              "<Figure size 640x480 with 1 Axes>"
            ],
            "image/png": "[encoded data removed]"
          },
          "metadata": {}
        },
        {
          "output_type": "stream",
          "name": "stdout",
          "text": [
            "Composiciones de las componentes principales:\n",
            "                   Gtp  Hemoglobina  triglyceride      ALT       AST  \\\n",
            "Componente 1  0.437684     0.346547      0.341570  0.35628  0.294618   \n",
            "Componente 2  0.187521     0.087360      0.012373  0.46413  0.467572   \n",
            "\n",
            "              systolic  Caries dental  Relajacion  \\\n",
            "Componente 1  0.388779       0.045809    0.398491   \n",
            "Componente 2 -0.510407      -0.009456   -0.503529   \n",
            "\n",
            "              Azucar en la sangre en ayuna  \n",
            "Componente 1                      0.214221  \n",
            "Componente 2                     -0.094157  \n"
          ]
        }
      ]
    },
    {
      "cell_type": "markdown",
      "source": [
        "Con PCA, he podido proyectar el dataset `smoking_df` en un espacio de menor dimensión, lo que facilita la visualización y la identificación de patrones y agrupaciones en los datos. Esta visualización es especialmente útil para comunicar los resultados del análisis de manera clara y comprensible."
      ],
      "metadata": {
        "id": "y2etQ7aUYuJG"
      }
    },
    {
      "cell_type": "markdown",
      "source": [
        "### Conclusion\n"
      ],
      "metadata": {
        "id": "l3sku2dxZM0x"
      }
    },
    {
      "cell_type": "markdown",
      "source": [
        "Precisión del 67%: Aunque aceptable, esta precisión indica que hay factores adicionales y posibles mejoras que podrían aumentar el rendimiento de los modelos.\n",
        "\n",
        "Complejidad de los Datos: La variabilidad intrínseca y las posibles correlaciones no lineales entre las características podrían requerir técnicas más avanzadas para capturar completamente los patrones subyacentes.\n",
        "\n",
        "Conclusión Final:\n",
        "\n",
        "En resumen, este proyecto ha demostrado la eficacia de las técnicas de preprocesamiento y modelado en la predicción de hábitos de fumar, alcanzando una precisión del 67%. A través de la reducción de dimensionalidad con PCA y el uso de diversos algoritmos de clasificación, hemos establecido una base sólida para futuras mejoras y exploraciones en este campo. Este trabajo no solo subraya la importancia de la preparación y el análisis de datos, sino también el potencial de la ciencia de datos para abordar problemas complejos de salud y comportamiento."
      ],
      "metadata": {
        "id": "bGTn7LtLZRYh"
      }
    }
  ]
}